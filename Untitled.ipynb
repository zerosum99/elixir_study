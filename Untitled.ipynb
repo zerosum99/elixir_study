{
 "cells": [
  {
   "cell_type": "code",
   "execution_count": null,
   "id": "2049016b-fc78-4b08-845d-cacead5cf7ea",
   "metadata": {},
   "outputs": [],
   "source": [
    "100"
   ]
  },
  {
   "cell_type": "code",
   "execution_count": null,
   "id": "d85eacfe-b567-4d7d-8b4c-b71d6d3d12e4",
   "metadata": {},
   "outputs": [],
   "source": []
  }
 ],
 "metadata": {
  "kernelspec": {
   "display_name": "Elixir",
   "language": "Elixir",
   "name": "ielixir"
  },
  "language_info": {
   "name": ""
  }
 },
 "nbformat": 4,
 "nbformat_minor": 5
}
